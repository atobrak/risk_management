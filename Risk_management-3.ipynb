{
 "cells": [
  {
   "cell_type": "code",
   "execution_count": 1,
   "metadata": {},
   "outputs": [],
   "source": [
    "#### Risk management software implementation \n",
    "\n",
    "# script is written in an object oriented fashion\n",
    "\n",
    "\n",
    "\n"
   ]
  },
  {
   "cell_type": "code",
   "execution_count": 2,
   "metadata": {},
   "outputs": [],
   "source": [
    "###### categories\n",
    "\n",
    "# Employment\n",
    "# income\n",
    "# Family dependencies\n",
    "# social activities\n",
    "# Age\n",
    "# Health situation\n",
    "# Ocupational hazard\n",
    "# Location\n",
    "# random\n"
   ]
  },
  {
   "cell_type": "code",
   "execution_count": 3,
   "metadata": {},
   "outputs": [],
   "source": [
    "#### steps in the risk evaluation process\n",
    "\n",
    "# Evaluate loss exposures\n",
    "# Appraise risk management techniques\n",
    "# Establish risk management program\n",
    "# Adapt to change "
   ]
  },
  {
   "cell_type": "code",
   "execution_count": 4,
   "metadata": {},
   "outputs": [],
   "source": [
    "# defining classes for the main categories\n",
    "\n",
    "class Employment:\n",
    "    def __init__ (self,job_type,job_location,job_level,gross_income):\n",
    "        self.job_type = job_type\n",
    "        self.job_location = job_location\n",
    "        self.job_level = job_level\n",
    "        self.gross_income = gross_income\n",
    "        \n",
    "        social_insurance = 100. # this is just a dummy value\n",
    "        \n",
    "        Fedearl_tax_rate = 0.006\n",
    "        \n",
    "        \n",
    "        \n",
    "        cantons = [Zurich, Bern, Luzern, Uri, Schwyz, Obwalden, Nidwalden, Glarus, Zug, Friburg, Solothurn, Basel_Stadt, Basel_Landschaft,\n",
    "                  Schaffhausen, Appenzell_Ausserhoden, Appenzell_Innerhoden, St_Gallen, Graubunden, Aargau, Thurgau, Ticino, Vaud, Wallis, Neuchatel, Geneva, Jura]\n",
    "        \n",
    "        \n",
    "        Cantonal_Tax_rate =[]\n",
    "        \n",
    "        # user supplied input for pension\n",
    "        \n",
    "        pass\n",
    "    \n",
    "    "
   ]
  },
  {
   "cell_type": "code",
   "execution_count": 6,
   "metadata": {},
   "outputs": [],
   "source": [
    "class Life_style:\n",
    "    def __init__ (self):\n",
    "        \n",
    "        # define a function for medical insurance\n",
    "        \n",
    "        \n",
    "        # define a function for extra pension\n",
    "        \n",
    "        \n",
    "        pass"
   ]
  },
  {
   "cell_type": "code",
   "execution_count": 7,
   "metadata": {},
   "outputs": [],
   "source": [
    "class Age:\n",
    "    def __init__(self,age):\n",
    "        self.age = age\n",
    "        pass\n",
    "        "
   ]
  },
  {
   "cell_type": "code",
   "execution_count": 8,
   "metadata": {},
   "outputs": [],
   "source": [
    "class Health_condition:\n",
    "    def __init__ (self):\n",
    "        pass"
   ]
  },
  {
   "cell_type": "code",
   "execution_count": 9,
   "metadata": {},
   "outputs": [],
   "source": [
    "class Location:\n",
    "    def __init__(self):\n",
    "        pass"
   ]
  },
  {
   "cell_type": "code",
   "execution_count": 10,
   "metadata": {},
   "outputs": [],
   "source": [
    "class Random:\n",
    "    def __init__(self):\n",
    "        pass"
   ]
  },
  {
   "cell_type": "code",
   "execution_count": null,
   "metadata": {},
   "outputs": [],
   "source": []
  }
 ],
 "metadata": {
  "kernelspec": {
   "display_name": "Python 3",
   "language": "python",
   "name": "python3"
  },
  "language_info": {
   "codemirror_mode": {
    "name": "ipython",
    "version": 3
   },
   "file_extension": ".py",
   "mimetype": "text/x-python",
   "name": "python",
   "nbconvert_exporter": "python",
   "pygments_lexer": "ipython3",
   "version": "3.8.5"
  }
 },
 "nbformat": 4,
 "nbformat_minor": 4
}
